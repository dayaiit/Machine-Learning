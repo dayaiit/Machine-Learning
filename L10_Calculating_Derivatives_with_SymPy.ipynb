{
  "nbformat": 4,
  "nbformat_minor": 0,
  "metadata": {
    "colab": {
      "provenance": [],
      "authorship_tag": "ABX9TyPBg+RJyCdFPTgTEPqSXzKD",
      "include_colab_link": true
    },
    "kernelspec": {
      "name": "python3",
      "display_name": "Python 3"
    },
    "language_info": {
      "name": "python"
    }
  },
  "cells": [
    {
      "cell_type": "markdown",
      "metadata": {
        "id": "view-in-github",
        "colab_type": "text"
      },
      "source": [
        "<a href=\"https://colab.research.google.com/github/dayaiit/Machine-Learning/blob/main/L10_Calculating_Derivatives_with_SymPy.ipynb\" target=\"_parent\"><img src=\"https://colab.research.google.com/assets/colab-badge.svg\" alt=\"Open In Colab\"/></a>"
      ]
    },
    {
      "cell_type": "code",
      "execution_count": 1,
      "metadata": {
        "colab": {
          "base_uri": "https://localhost:8080/"
        },
        "id": "TRQBPvx7DQnR",
        "outputId": "ff218677-836c-4a63-d1f1-797f56728fb2"
      },
      "outputs": [
        {
          "output_type": "stream",
          "name": "stdout",
          "text": [
            "Function: w**2\n",
            "Derivative: 2*w\n",
            "Value at w=2: 4\n",
            "Value at w=3: 6\n",
            "Value at w=-3: -6\n",
            "\n",
            "==================================================\n",
            "\n",
            "Function: w**3\n",
            "Derivative: 3*w**2\n",
            "Value at w=2: 12\n",
            "\n",
            "==================================================\n",
            "\n",
            "Function: w\n",
            "Derivative: 1\n",
            "Value at w=2: 1\n",
            "\n",
            "==================================================\n",
            "\n",
            "Function: 1/w\n",
            "Derivative: -1/w**2\n",
            "Value at w=2: -1/4\n",
            "\n",
            "==================================================\n",
            "\n",
            "Manual verification for w³ when w=2:\n",
            "Original J(w) where w=2: 8\n",
            "New J(w) where w=2.001: 8.012006000999998\n",
            "Change in J(w): 0.012006000999997823\n",
            "Expected change (derivative × epsilon): 0.0120000000000000\n",
            "Ratio of actual change to epsilon: 12.006000999997823\n",
            "This should be close to the derivative value: 12\n"
          ]
        }
      ],
      "source": [
        "import sympy as sp\n",
        "\n",
        "# Define symbols\n",
        "w = sp.Symbol('w')\n",
        "\n",
        "# Example 1: J(w) = w²\n",
        "J1 = w**2\n",
        "derivative1 = sp.diff(J1, w)\n",
        "print(f\"Function: {J1}\")\n",
        "print(f\"Derivative: {derivative1}\")\n",
        "print(f\"Value at w=2: {derivative1.subs(w, 2)}\")\n",
        "print(f\"Value at w=3: {derivative1.subs(w, 3)}\")\n",
        "print(f\"Value at w=-3: {derivative1.subs(w, -3)}\")\n",
        "\n",
        "print(\"\\n\" + \"=\"*50 + \"\\n\")\n",
        "\n",
        "# Example 2: J(w) = w³\n",
        "J2 = w**3\n",
        "derivative2 = sp.diff(J2, w)\n",
        "print(f\"Function: {J2}\")\n",
        "print(f\"Derivative: {derivative2}\")\n",
        "print(f\"Value at w=2: {derivative2.subs(w, 2)}\")\n",
        "\n",
        "print(\"\\n\" + \"=\"*50 + \"\\n\")\n",
        "\n",
        "# Example 3: J(w) = w\n",
        "J3 = w\n",
        "derivative3 = sp.diff(J3, w)\n",
        "print(f\"Function: {J3}\")\n",
        "print(f\"Derivative: {derivative3}\")\n",
        "print(f\"Value at w=2: {derivative3.subs(w, 2)}\")\n",
        "\n",
        "print(\"\\n\" + \"=\"*50 + \"\\n\")\n",
        "\n",
        "# Example 4: J(w) = 1/w\n",
        "J4 = 1/w\n",
        "derivative4 = sp.diff(J4, w)\n",
        "print(f\"Function: {J4}\")\n",
        "print(f\"Derivative: {derivative4}\")\n",
        "print(f\"Value at w=2: {derivative4.subs(w, 2)}\")\n",
        "\n",
        "# Let's verify one of our examples manually\n",
        "print(\"\\n\" + \"=\"*50 + \"\\n\")\n",
        "print(\"Manual verification for w³ when w=2:\")\n",
        "\n",
        "w_value = 2\n",
        "epsilon = 0.001\n",
        "\n",
        "# Original function value\n",
        "original = w_value**3\n",
        "print(f\"Original J(w) where w={w_value}: {original}\")\n",
        "\n",
        "# New function value after small change\n",
        "new_w = w_value + epsilon\n",
        "new_value = new_w**3\n",
        "print(f\"New J(w) where w={new_w}: {new_value}\")\n",
        "\n",
        "# Change in function value\n",
        "delta_J = new_value - original\n",
        "print(f\"Change in J(w): {delta_J}\")\n",
        "\n",
        "# Expected change based on derivative\n",
        "expected_change = derivative2.subs(w, w_value) * epsilon\n",
        "print(f\"Expected change (derivative × epsilon): {expected_change}\")\n",
        "\n",
        "# Verification\n",
        "print(f\"Ratio of actual change to epsilon: {delta_J/epsilon}\")\n",
        "print(f\"This should be close to the derivative value: {derivative2.subs(w, w_value)}\")"
      ]
    }
  ]
}